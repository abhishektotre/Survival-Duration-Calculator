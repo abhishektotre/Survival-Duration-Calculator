{
 "cells": [
  {
   "cell_type": "code",
   "execution_count": 10,
   "id": "002f0565-511f-4cbb-bf39-91f2a6a96e12",
   "metadata": {},
   "outputs": [
    {
     "name": "stdin",
     "output_type": "stream",
     "text": [
      "What's your age?  55\n",
      "Please choose time unit: Months, Weeks, Days, Hours, Minutes, Seconds.\n",
      "Note: You can write the first letter or the full name of the time unit:  w\n"
     ]
    },
    {
     "name": "stdout",
     "output_type": "stream",
     "text": [
      "You lived for 2860 Weeks\n"
     ]
    }
   ],
   "source": [
    "# Constants for time conversions\n",
    "MONTHS_IN_YEAR = 12\n",
    "WEEKS_IN_YEAR = 52\n",
    "DAYS_IN_YEAR = 365\n",
    "HOURS_IN_DAY = 24\n",
    "MINUTES_IN_HOUR = 60\n",
    "SECONDS_IN_MINUTE = 60\n",
    "\n",
    "# Get user input\n",
    "age = int(input(\"What's your age? \"))  # Age in years\n",
    "time_unit = input(\"Please choose time unit: Months, Weeks, Days, Hours, Minutes, Seconds.\\nNote: You can write the first letter or the full name of the time unit: \").strip().lower()\n",
    "\n",
    "# Calculate duration based on the selected time unit\n",
    "if time_unit in ['months', 'm']:\n",
    "    duration = age * MONTHS_IN_YEAR\n",
    "    unit = \"Months\"\n",
    "elif time_unit in ['weeks', 'w']:\n",
    "    duration = age * WEEKS_IN_YEAR\n",
    "    unit = \"Weeks\"\n",
    "elif time_unit in ['days', 'd']:\n",
    "    duration = age * DAYS_IN_YEAR\n",
    "    unit = \"Days\"\n",
    "elif time_unit in ['hours', 'h']:\n",
    "    duration = age * DAYS_IN_YEAR * HOURS_IN_DAY\n",
    "    unit = \"Hours\"\n",
    "elif time_unit in ['minutes', 'min', 'm']:\n",
    "    duration = age * DAYS_IN_YEAR * HOURS_IN_DAY * MINUTES_IN_HOUR\n",
    "    unit = \"Minutes\"\n",
    "elif time_unit in ['seconds', 's']:\n",
    "    duration = age * DAYS_IN_YEAR * HOURS_IN_DAY * MINUTES_IN_HOUR * SECONDS_IN_MINUTE\n",
    "    unit = \"Seconds\"\n",
    "else:\n",
    "    duration = None\n",
    "    unit = None\n",
    "\n",
    "# Output the result\n",
    "if duration is not None:\n",
    "    print(f\"You lived for {duration} {unit}\")\n",
    "else:\n",
    "    print(\"Invalid time unit selected.\")"
   ]
  },
  {
   "cell_type": "code",
   "execution_count": null,
   "id": "ba3103db-b4b0-4fb7-a0f2-b1ce28bfb835",
   "metadata": {},
   "outputs": [],
   "source": []
  }
 ],
 "metadata": {
  "kernelspec": {
   "display_name": "Python 3 (ipykernel)",
   "language": "python",
   "name": "python3"
  },
  "language_info": {
   "codemirror_mode": {
    "name": "ipython",
    "version": 3
   },
   "file_extension": ".py",
   "mimetype": "text/x-python",
   "name": "python",
   "nbconvert_exporter": "python",
   "pygments_lexer": "ipython3",
   "version": "3.12.4"
  }
 },
 "nbformat": 4,
 "nbformat_minor": 5
}
