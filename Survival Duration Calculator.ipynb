{
 "cells": [
  {
   "cell_type": "markdown",
   "id": "e8dd6b41-48a2-4670-a41b-db9ad47aeac1",
   "metadata": {},
   "source": [
    "# Survival Duration Calculator"
   ]
  },
  {
   "cell_type": "markdown",
   "id": "4540be62-b314-490b-8099-222433c7a680",
   "metadata": {},
   "source": [
    "# creating a survival duration calculator defining class\n",
    "**To define the logic for calculating the duration of a person's life in six different time units we can break down the calculations based on the average number of days in a year and the conversions between these units. Here’s a detailed explanation of how to calculate each unit based on the age in years**:\n",
    "1. **Months**: \n",
    "   - There are 12 months in a year. \n",
    "   - Calculation: `age * 12`\n",
    "2. **Weeks**: \n",
    "   - There are approximately 52.1775 weeks in a year (considering leap years).\n",
    "   - Calculation: `age * 52.1775`\n",
    "3. **Days**: \n",
    "   - There are approximately 365.25 days in a year (accounting for leap years).\n",
    "   - Calculation: `age * 365.25`\n",
    "4. **Hours**: \n",
    "   - There are 24 hours in a day.\n",
    "   - Calculation: `days * 24` or directly from age: `age * 365.25 * 24`\n",
    "5. **Minutes**: \n",
    "   - There are 60 minutes in an hour.\n",
    "   - Calculation: `hours * 60` or directly from age: `age * 365.25 * 24 * 60`\n",
    "6. **Seconds**: \n",
    "   - There are 60 seconds in a minute.\n",
    "   - Calculation: `minutes * 60` or directly from age: `age * 365.25 * 24 * 60 * 60`\n"
   ]
  },
  {
   "cell_type": "code",
   "execution_count": 26,
   "id": "9e2b45e4-323f-417d-9428-6ade55e67931",
   "metadata": {},
   "outputs": [
    {
     "name": "stdin",
     "output_type": "stream",
     "text": [
      "What's your age?  25\n",
      "Please choose time unit: Months, Weeks, Days, Hours, Minutes, Seconds.\n",
      "Note: You can write the first letter or the full name of the time unit.  w\n"
     ]
    },
    {
     "name": "stdout",
     "output_type": "stream",
     "text": [
      "You lived for 1304.4375 Weeks\n"
     ]
    }
   ],
   "source": [
    "class AgeDurationCalculator:\n",
    "    def __init__(self, age):\n",
    "        self.age = age\n",
    "\n",
    "    def to_months(self):\n",
    "        return self.age * 12\n",
    "\n",
    "    def to_weeks(self):\n",
    "        return self.age * 52.1775  # Average weeks in a year\n",
    "\n",
    "    def to_days(self):\n",
    "        return self.age * 365.25  # Average days in a year\n",
    "\n",
    "    def to_hours(self):\n",
    "        return self.to_days() * 24  # 24 hours in a day\n",
    "\n",
    "    def to_minutes(self):\n",
    "        return self.to_hours() * 60  # 60 minutes in an hour\n",
    "\n",
    "    def to_seconds(self):\n",
    "        return self.to_minutes() * 60  # 60 seconds in a minute\n",
    "\n",
    "def main():\n",
    "    age = int(input(\"What's your age? \"))\n",
    "    unit = input(\"Please choose time unit: Months, Weeks, Days, Hours, Minutes, Seconds.\\nNote: You can write the first letter or the full name of the time unit. \").strip().lower()\n",
    "\n",
    "    calculator = AgeDurationCalculator(age)\n",
    "\n",
    "    if unit in ['months', 'm']:\n",
    "        print(f\"You lived for {calculator.to_months()} Months\")\n",
    "    elif unit in ['weeks', 'w']:\n",
    "        print(f\"You lived for {calculator.to_weeks()} Weeks\")\n",
    "    elif unit in ['days', 'd']:\n",
    "        print(f\"You lived for {calculator.to_days()} Days\")\n",
    "    elif unit in ['hours', 'h']:\n",
    "        print(f\"You lived for {calculator.to_hours()} Hours\")\n",
    "    elif unit in ['minutes', 'min', 'm']:\n",
    "        print(f\"You lived for {calculator.to_minutes()} Minutes\")\n",
    "    elif unit in ['seconds', 's']:\n",
    "        print(f\"You lived for {calculator.to_seconds()} Seconds\")\n",
    "    else:\n",
    "        print(\"Invalid time unit selected.\")\n",
    "\n",
    "if __name__ == \"__main__\":\n",
    "    main()"
   ]
  },
  {
   "cell_type": "code",
   "execution_count": 31,
   "id": "cfb7be0a-0aa5-4898-b0da-75d5830b3901",
   "metadata": {},
   "outputs": [
    {
     "name": "stdin",
     "output_type": "stream",
     "text": [
      "What's your age?  25\n",
      "Please choose time unit: Months, Weeks, Days, Hours, Minutes, Seconds.\n",
      "Note: You can write the first letter or the full name of the time unit:  w\n"
     ]
    },
    {
     "name": "stdout",
     "output_type": "stream",
     "text": [
      "You lived for 1300 Weeks\n"
     ]
    }
   ],
   "source": [
    "# creating a survival duration calculator by basic calculation method\n",
    "# Constants for time conversions\n",
    "MONTHS_IN_YEAR = 12\n",
    "WEEKS_IN_YEAR = 52\n",
    "DAYS_IN_YEAR = 365\n",
    "HOURS_IN_DAY = 24\n",
    "MINUTES_IN_HOUR = 60\n",
    "SECONDS_IN_MINUTE = 60\n",
    "\n",
    "# Get user input\n",
    "age = int(input(\"What's your age? \"))  # Age in years\n",
    "time_unit = input(\"Please choose time unit: Months, Weeks, Days, Hours, Minutes, Seconds.\\nNote: You can write the first letter or the full name of the time unit: \").strip().lower()\n",
    "\n",
    "# Calculate duration based on the selected time unit\n",
    "if time_unit in ['months', 'm']:\n",
    "    duration = age * MONTHS_IN_YEAR\n",
    "    unit = \"Months\"\n",
    "elif time_unit in ['weeks', 'w']:\n",
    "    duration = age * WEEKS_IN_YEAR\n",
    "    unit = \"Weeks\"\n",
    "elif time_unit in ['days', 'd']:\n",
    "    duration = age * DAYS_IN_YEAR\n",
    "    unit = \"Days\"\n",
    "elif time_unit in ['hours', 'h']:\n",
    "    duration = age * DAYS_IN_YEAR * HOURS_IN_DAY\n",
    "    unit = \"Hours\"\n",
    "elif time_unit in ['minutes', 'min', 'm']:\n",
    "    duration = age * DAYS_IN_YEAR * HOURS_IN_DAY * MINUTES_IN_HOUR\n",
    "    unit = \"Minutes\"\n",
    "elif time_unit in ['seconds', 's']:\n",
    "    duration = age * DAYS_IN_YEAR * HOURS_IN_DAY * MINUTES_IN_HOUR * SECONDS_IN_MINUTE\n",
    "    unit = \"Seconds\"\n",
    "else:\n",
    "    duration = None\n",
    "    unit = None\n",
    "\n",
    "# Output the result\n",
    "if duration is not None:\n",
    "    print(f\"You lived for {duration} {unit}\")\n",
    "else:\n",
    "    print(\"Invalid time unit selected.\")"
   ]
  },
  {
   "cell_type": "code",
   "execution_count": null,
   "id": "082d5f40-e85e-4545-adfa-e9875d096130",
   "metadata": {},
   "outputs": [],
   "source": []
  }
 ],
 "metadata": {
  "kernelspec": {
   "display_name": "Python 3 (ipykernel)",
   "language": "python",
   "name": "python3"
  },
  "language_info": {
   "codemirror_mode": {
    "name": "ipython",
    "version": 3
   },
   "file_extension": ".py",
   "mimetype": "text/x-python",
   "name": "python",
   "nbconvert_exporter": "python",
   "pygments_lexer": "ipython3",
   "version": "3.12.4"
  }
 },
 "nbformat": 4,
 "nbformat_minor": 5
}
